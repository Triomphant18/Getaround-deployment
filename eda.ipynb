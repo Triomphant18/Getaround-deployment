{
 "cells": [
  {
   "cell_type": "markdown",
   "metadata": {},
   "source": [
    "# Get around"
   ]
  },
  {
   "cell_type": "code",
   "execution_count": null,
   "metadata": {},
   "outputs": [],
   "source": [
    "import pandas as pd\n",
    "import numpy as np\n",
    "import plotly.express as px"
   ]
  },
  {
   "cell_type": "code",
   "execution_count": 2,
   "metadata": {},
   "outputs": [],
   "source": [
    "dataset = pd.read_excel(\n",
    "    \"https://full-stack-assets.s3.eu-west-3.amazonaws.com/Deployment/get_around_delay_analysis.xlsx\"\n",
    ")"
   ]
  },
  {
   "cell_type": "code",
   "execution_count": 4,
   "metadata": {},
   "outputs": [
    {
     "data": {
      "text/html": [
       "<div>\n",
       "<style scoped>\n",
       "    .dataframe tbody tr th:only-of-type {\n",
       "        vertical-align: middle;\n",
       "    }\n",
       "\n",
       "    .dataframe tbody tr th {\n",
       "        vertical-align: top;\n",
       "    }\n",
       "\n",
       "    .dataframe thead th {\n",
       "        text-align: right;\n",
       "    }\n",
       "</style>\n",
       "<table border=\"1\" class=\"dataframe\">\n",
       "  <thead>\n",
       "    <tr style=\"text-align: right;\">\n",
       "      <th></th>\n",
       "      <th>rental_id</th>\n",
       "      <th>car_id</th>\n",
       "      <th>checkin_type</th>\n",
       "      <th>state</th>\n",
       "      <th>delay_at_checkout_in_minutes</th>\n",
       "      <th>previous_ended_rental_id</th>\n",
       "      <th>time_delta_with_previous_rental_in_minutes</th>\n",
       "    </tr>\n",
       "  </thead>\n",
       "  <tbody>\n",
       "    <tr>\n",
       "      <th>0</th>\n",
       "      <td>505000</td>\n",
       "      <td>363965</td>\n",
       "      <td>mobile</td>\n",
       "      <td>canceled</td>\n",
       "      <td>NaN</td>\n",
       "      <td>NaN</td>\n",
       "      <td>NaN</td>\n",
       "    </tr>\n",
       "    <tr>\n",
       "      <th>1</th>\n",
       "      <td>507750</td>\n",
       "      <td>269550</td>\n",
       "      <td>mobile</td>\n",
       "      <td>ended</td>\n",
       "      <td>-81.0</td>\n",
       "      <td>NaN</td>\n",
       "      <td>NaN</td>\n",
       "    </tr>\n",
       "    <tr>\n",
       "      <th>2</th>\n",
       "      <td>508131</td>\n",
       "      <td>359049</td>\n",
       "      <td>connect</td>\n",
       "      <td>ended</td>\n",
       "      <td>70.0</td>\n",
       "      <td>NaN</td>\n",
       "      <td>NaN</td>\n",
       "    </tr>\n",
       "    <tr>\n",
       "      <th>3</th>\n",
       "      <td>508865</td>\n",
       "      <td>299063</td>\n",
       "      <td>connect</td>\n",
       "      <td>canceled</td>\n",
       "      <td>NaN</td>\n",
       "      <td>NaN</td>\n",
       "      <td>NaN</td>\n",
       "    </tr>\n",
       "    <tr>\n",
       "      <th>4</th>\n",
       "      <td>511440</td>\n",
       "      <td>313932</td>\n",
       "      <td>mobile</td>\n",
       "      <td>ended</td>\n",
       "      <td>NaN</td>\n",
       "      <td>NaN</td>\n",
       "      <td>NaN</td>\n",
       "    </tr>\n",
       "  </tbody>\n",
       "</table>\n",
       "</div>"
      ],
      "text/plain": [
       "   rental_id  car_id checkin_type     state  delay_at_checkout_in_minutes  \\\n",
       "0     505000  363965       mobile  canceled                           NaN   \n",
       "1     507750  269550       mobile     ended                         -81.0   \n",
       "2     508131  359049      connect     ended                          70.0   \n",
       "3     508865  299063      connect  canceled                           NaN   \n",
       "4     511440  313932       mobile     ended                           NaN   \n",
       "\n",
       "   previous_ended_rental_id  time_delta_with_previous_rental_in_minutes  \n",
       "0                       NaN                                         NaN  \n",
       "1                       NaN                                         NaN  \n",
       "2                       NaN                                         NaN  \n",
       "3                       NaN                                         NaN  \n",
       "4                       NaN                                         NaN  "
      ]
     },
     "execution_count": 4,
     "metadata": {},
     "output_type": "execute_result"
    }
   ],
   "source": [
    "dataset.head()"
   ]
  },
  {
   "cell_type": "markdown",
   "metadata": {},
   "source": [
    "### Data cleaning"
   ]
  },
  {
   "cell_type": "code",
   "execution_count": 6,
   "metadata": {},
   "outputs": [],
   "source": [
    "# Filter dataset to have not null delay_at_checkout_in_minutes for every ended state\n",
    "\n",
    "dataset_clean = dataset[\n",
    "            (dataset['state']=='canceled') & (dataset[\"delay_at_checkout_in_minutes\"].isnull()) |\n",
    "            ((dataset[\"state\"] == \"ended\") & (dataset[\"delay_at_checkout_in_minutes\"].notnull()))\n",
    "        ].reset_index(drop=True)\n",
    "\n",
    "# Keep the cancelled state\n",
    "dataset_clean_canceled = dataset_clean[(dataset_clean[\"state\"] == \"canceled\")]\n",
    "\n",
    "# Remove outliers from dataset. We assume that people can't have delay for more that one 3 days.\n",
    "dataset_clean = dataset_clean[\n",
    "    (dataset_clean[\"delay_at_checkout_in_minutes\"] <= 60 * 24 * 3)\n",
    "    & (dataset_clean[\"delay_at_checkout_in_minutes\"] >= -60 * 24 * 3)\n",
    "]\n",
    "\n",
    "dataset_clean = pd.concat([dataset_clean, dataset_clean_canceled])\n"
   ]
  },
  {
   "cell_type": "markdown",
   "metadata": {},
   "source": [
    "Which share of our owner’s revenue would potentially be affected by the feature?"
   ]
  },
  {
   "cell_type": "code",
   "execution_count": 7,
   "metadata": {},
   "outputs": [
    {
     "data": {
      "text/plain": [
       "<Axes: ylabel='proportion'>"
      ]
     },
     "execution_count": 7,
     "metadata": {},
     "output_type": "execute_result"
    },
    {
     "data": {
      "image/png": "[encoded data removed]",
      "text/plain": [
       "<Figure size 640x480 with 1 Axes>"
      ]
     },
     "metadata": {},
     "output_type": "display_data"
    }
   ],
   "source": [
    "### What are the proportion of cancellation \n",
    "dataset_clean[\"state\"].value_counts(normalize=True).plot(kind=\"pie\")"
   ]
  },
  {
   "cell_type": "code",
   "execution_count": 57,
   "metadata": {},
   "outputs": [
    {
     "data": {
      "text/plain": [
       "checkin_type\n",
       "mobile     15372\n",
       "connect     4200\n",
       "Name: count, dtype: int64"
      ]
     },
     "execution_count": 57,
     "metadata": {},
     "output_type": "execute_result"
    }
   ],
   "source": [
    "dataset_clean[\"checkin_type\"].value_counts()"
   ]
  },
  {
   "cell_type": "code",
   "execution_count": 9,
   "metadata": {},
   "outputs": [
    {
     "data": {
      "text/plain": [
       "state\n",
       "ended       0.833231\n",
       "canceled    0.166769\n",
       "Name: proportion, dtype: float64"
      ]
     },
     "execution_count": 9,
     "metadata": {},
     "output_type": "execute_result"
    }
   ],
   "source": [
    "dataset_clean[\"state\"].value_counts(normalize=True)"
   ]
  },
  {
   "cell_type": "code",
   "execution_count": 10,
   "metadata": {},
   "outputs": [
    {
     "name": "stdout",
     "output_type": "stream",
     "text": [
      "We can see that there is almost 16.68% of cancellation\n"
     ]
    }
   ],
   "source": [
    "cancelation_rate = dataset_clean[\"state\"].value_counts(normalize=True).iloc[1]*100\n",
    "\n",
    "print(\n",
    "    f\"We can see that there is almost {cancelation_rate.round(2)}% of cancellation\"\n",
    ")"
   ]
  },
  {
   "cell_type": "markdown",
   "metadata": {},
   "source": [
    "Let's check the proportion of cancellation due the late of the previous rental"
   ]
  },
  {
   "cell_type": "code",
   "execution_count": 11,
   "metadata": {},
   "outputs": [],
   "source": [
    "cancel_previous = dataset_clean[\n",
    "    (dataset_clean[\"state\"] == \"canceled\")\n",
    "    & (dataset_clean[\"time_delta_with_previous_rental_in_minutes\"].notna())\n",
    "]"
   ]
  },
  {
   "cell_type": "code",
   "execution_count": 12,
   "metadata": {},
   "outputs": [],
   "source": [
    "long_late = (\n",
    "    len(cancel_previous[\"previous_ended_rental_id\"])\n",
    "    - len(cancel_previous[\"previous_ended_rental_id\"].unique())\n",
    ")"
   ]
  },
  {
   "cell_type": "code",
   "execution_count": 13,
   "metadata": {},
   "outputs": [],
   "source": [
    "canceled_previous_dt = dataset_clean[\n",
    "    (\n",
    "        dataset_clean[\"rental_id\"].isin(\n",
    "            cancel_previous[\"previous_ended_rental_id\"].unique()\n",
    "        )\n",
    "    )\n",
    "    & (dataset_clean[\"delay_at_checkout_in_minutes\"].notna())\n",
    "][[\"checkin_type\" ,\"delay_at_checkout_in_minutes\"]]"
   ]
  },
  {
   "cell_type": "code",
   "execution_count": 14,
   "metadata": {},
   "outputs": [
    {
     "name": "stdout",
     "output_type": "stream",
     "text": [
      "We can see that 60% of the rental cancelation is due to late checkout\n"
     ]
    }
   ],
   "source": [
    "cancelation_late = (len(canceled_previous_dt[canceled_previous_dt[\"delay_at_checkout_in_minutes\"] > 0]) + long_late)*100 // len(canceled_previous_dt)\n",
    "print(f\"We can see that {cancelation_late}% of the rental cancelation is due to late checkout\")"
   ]
  },
  {
   "cell_type": "code",
   "execution_count": 15,
   "metadata": {},
   "outputs": [],
   "source": [
    "affected_owner_share = cancelation_rate * cancelation_late/100"
   ]
  },
  {
   "cell_type": "code",
   "execution_count": 16,
   "metadata": {},
   "outputs": [
    {
     "data": {
      "text/plain": [
       "np.float64(10.006131207847945)"
      ]
     },
     "execution_count": 16,
     "metadata": {},
     "output_type": "execute_result"
    }
   ],
   "source": [
    "affected_owner_share"
   ]
  },
  {
   "cell_type": "markdown",
   "metadata": {},
   "source": [
    "How many rentals would be affected by the feature depending on the threshold and scope we choose?"
   ]
  },
  {
   "cell_type": "code",
   "execution_count": 17,
   "metadata": {},
   "outputs": [
    {
     "data": {
      "text/plain": [
       "checkin_type\n",
       "connect   -43.627278\n",
       "mobile     59.280490\n",
       "Name: delay_at_checkout_in_minutes, dtype: float64"
      ]
     },
     "execution_count": 17,
     "metadata": {},
     "output_type": "execute_result"
    }
   ],
   "source": [
    "# Let's check the average delay_at_checkout_in_minutes by checking_type\n",
    "dataset_clean.groupby(\"checkin_type\")[\"delay_at_checkout_in_minutes\"].mean()"
   ]
  },
  {
   "cell_type": "markdown",
   "metadata": {},
   "source": [
    "In average: the connected checking type more than 40 min on time where mobile checking type have almost 1h hour late"
   ]
  },
  {
   "cell_type": "code",
   "execution_count": 9,
   "metadata": {},
   "outputs": [],
   "source": [
    "# Create new column late range of chechout time with modality early, 15min, 30min , 1h , 2h, 4h, more than 4h on the dataset_clean dateframe\n",
    "categories = [\"early\", \"on time\", \"15min\", \"30min\", \"1h\", \"2h\", \"4h\", \"more than 4h\"]\n",
    "dataset_clean[\"late_range_checkout_time\"] = pd.cut(\n",
    "    dataset_clean[\"delay_at_checkout_in_minutes\"],\n",
    "    bins=[-np.inf, 0, 15, 30, 60, 120, 240, 480, np.inf],\n",
    "    labels=categories,\n",
    ")\n",
    "dataset_clean[\"late_range_checkout_time\"] = pd.Categorical(\n",
    "    dataset_clean[\"late_range_checkout_time\"], categories=categories, ordered=True\n",
    ")"
   ]
  },
  {
   "cell_type": "code",
   "execution_count": 36,
   "metadata": {},
   "outputs": [],
   "source": [
    "connect_pro = (dataset_clean[\"late_range_checkout_time\"][\n",
    "    dataset_clean[\"checkin_type\"] == \"connect\"\n",
    "].value_counts(normalize=True).sort_index() *100).reset_index()\n",
    "\n",
    "mobile_pro = (dataset_clean[\"late_range_checkout_time\"][\n",
    "    dataset_clean[\"checkin_type\"] == \"mobile\"\n",
    "].value_counts(normalize=True).sort_index() *100).reset_index()"
   ]
  },
  {
   "cell_type": "code",
   "execution_count": null,
   "metadata": {},
   "outputs": [],
   "source": [
    "# create a column cumulative_proportion base on column the column proportion in connect_pro dataframe\n",
    "connect_pro[\"cumulative_proportion_connect\"] = connect_pro[\"proportion\"].cumsum()\n",
    "mobile_pro[\"cumulative_proportion_mobile\"] = mobile_pro[\"proportion\"].cumsum()"
   ]
  },
  {
   "cell_type": "code",
   "execution_count": 48,
   "metadata": {},
   "outputs": [],
   "source": [
    "# Join connect_pro, mobile_pro dataframes on late_range_checkout_time\n",
    "cumMobCon = connect_pro.drop(columns=[\"proportion\"]).merge(\n",
    "    mobile_pro.drop(columns=[\"proportion\"]), on=\"late_range_checkout_time\"\n",
    ")"
   ]
  },
  {
   "cell_type": "code",
   "execution_count": 67,
   "metadata": {},
   "outputs": [
    {
     "data": {
      "text/html": [
       "<div>\n",
       "<style scoped>\n",
       "    .dataframe tbody tr th:only-of-type {\n",
       "        vertical-align: middle;\n",
       "    }\n",
       "\n",
       "    .dataframe tbody tr th {\n",
       "        vertical-align: top;\n",
       "    }\n",
       "\n",
       "    .dataframe thead th {\n",
       "        text-align: right;\n",
       "    }\n",
       "</style>\n",
       "<table border=\"1\" class=\"dataframe\">\n",
       "  <thead>\n",
       "    <tr style=\"text-align: right;\">\n",
       "      <th></th>\n",
       "      <th>late_range_checkout_time</th>\n",
       "      <th>Type</th>\n",
       "      <th>Proportion</th>\n",
       "    </tr>\n",
       "  </thead>\n",
       "  <tbody>\n",
       "    <tr>\n",
       "      <th>0</th>\n",
       "      <td>early</td>\n",
       "      <td>Connect</td>\n",
       "      <td>57.113463</td>\n",
       "    </tr>\n",
       "    <tr>\n",
       "      <th>1</th>\n",
       "      <td>on time</td>\n",
       "      <td>Connect</td>\n",
       "      <td>67.372134</td>\n",
       "    </tr>\n",
       "    <tr>\n",
       "      <th>2</th>\n",
       "      <td>15min</td>\n",
       "      <td>Connect</td>\n",
       "      <td>74.191652</td>\n",
       "    </tr>\n",
       "    <tr>\n",
       "      <th>3</th>\n",
       "      <td>30min</td>\n",
       "      <td>Connect</td>\n",
       "      <td>83.744856</td>\n",
       "    </tr>\n",
       "    <tr>\n",
       "      <th>4</th>\n",
       "      <td>1h</td>\n",
       "      <td>Connect</td>\n",
       "      <td>92.328042</td>\n",
       "    </tr>\n",
       "    <tr>\n",
       "      <th>5</th>\n",
       "      <td>2h</td>\n",
       "      <td>Connect</td>\n",
       "      <td>97.442681</td>\n",
       "    </tr>\n",
       "    <tr>\n",
       "      <th>6</th>\n",
       "      <td>4h</td>\n",
       "      <td>Connect</td>\n",
       "      <td>99.353322</td>\n",
       "    </tr>\n",
       "    <tr>\n",
       "      <th>7</th>\n",
       "      <td>more than 4h</td>\n",
       "      <td>Connect</td>\n",
       "      <td>100.000000</td>\n",
       "    </tr>\n",
       "    <tr>\n",
       "      <th>8</th>\n",
       "      <td>early</td>\n",
       "      <td>Mobile</td>\n",
       "      <td>38.687432</td>\n",
       "    </tr>\n",
       "    <tr>\n",
       "      <th>9</th>\n",
       "      <td>on time</td>\n",
       "      <td>Mobile</td>\n",
       "      <td>51.386952</td>\n",
       "    </tr>\n",
       "    <tr>\n",
       "      <th>10</th>\n",
       "      <td>15min</td>\n",
       "      <td>Mobile</td>\n",
       "      <td>59.956609</td>\n",
       "    </tr>\n",
       "    <tr>\n",
       "      <th>11</th>\n",
       "      <td>30min</td>\n",
       "      <td>Mobile</td>\n",
       "      <td>70.548582</td>\n",
       "    </tr>\n",
       "    <tr>\n",
       "      <th>12</th>\n",
       "      <td>1h</td>\n",
       "      <td>Mobile</td>\n",
       "      <td>82.488765</td>\n",
       "    </tr>\n",
       "    <tr>\n",
       "      <th>13</th>\n",
       "      <td>2h</td>\n",
       "      <td>Mobile</td>\n",
       "      <td>90.585774</td>\n",
       "    </tr>\n",
       "    <tr>\n",
       "      <th>14</th>\n",
       "      <td>4h</td>\n",
       "      <td>Mobile</td>\n",
       "      <td>95.110801</td>\n",
       "    </tr>\n",
       "    <tr>\n",
       "      <th>15</th>\n",
       "      <td>more than 4h</td>\n",
       "      <td>Mobile</td>\n",
       "      <td>100.000000</td>\n",
       "    </tr>\n",
       "  </tbody>\n",
       "</table>\n",
       "</div>"
      ],
      "text/plain": [
       "   late_range_checkout_time     Type  Proportion\n",
       "0                     early  Connect   57.113463\n",
       "1                   on time  Connect   67.372134\n",
       "2                     15min  Connect   74.191652\n",
       "3                     30min  Connect   83.744856\n",
       "4                        1h  Connect   92.328042\n",
       "5                        2h  Connect   97.442681\n",
       "6                        4h  Connect   99.353322\n",
       "7              more than 4h  Connect  100.000000\n",
       "8                     early   Mobile   38.687432\n",
       "9                   on time   Mobile   51.386952\n",
       "10                    15min   Mobile   59.956609\n",
       "11                    30min   Mobile   70.548582\n",
       "12                       1h   Mobile   82.488765\n",
       "13                       2h   Mobile   90.585774\n",
       "14                       4h   Mobile   95.110801\n",
       "15             more than 4h   Mobile  100.000000"
      ]
     },
     "execution_count": 67,
     "metadata": {},
     "output_type": "execute_result"
    }
   ],
   "source": [
    "cumMobCon_long"
   ]
  },
  {
   "cell_type": "code",
   "execution_count": 75,
   "metadata": {},
   "outputs": [
    {
     "name": "stderr",
     "output_type": "stream",
     "text": [
      "/home/triomphant/.local/lib/python3.12/site-packages/plotly/express/_core.py:1992: FutureWarning:\n",
      "\n",
      "When grouping with a length-1 list-like, you will need to pass a length-1 tuple to get_group in a future version of pandas. Pass `(name,)` instead of `name` to silence this warning.\n",
      "\n"
     ]
    },
    {
     "data": {
      "application/vnd.plotly.v1+json": {
       "config": {
        "plotlyServerURL": "https://plot.ly"
       },
       "data": [
        {
         "alignmentgroup": "True",
         "hovertemplate": "Type=Connect<br>late_range_checkout_time=%{x}<br>Proportion=%{y}<extra></extra>",
         "legendgroup": "Connect",
         "marker": {
          "color": "#30123b",
          "pattern": {
           "shape": ""
          }
         },
         "name": "Connect",
         "offsetgroup": "Connect",
         "orientation": "v",
         "showlegend": true,
         "textposition": "auto",
         "type": "bar",
         "x": [
          "early",
          "on time",
          "15min",
          "30min",
          "1h",
          "2h",
          "4h",
          "more than 4h"
         ],
         "xaxis": "x",
         "y": [
          57.11346266901822,
          67.3721340388007,
          74.19165196942974,
          83.74485596707818,
          92.32804232804232,
          97.4426807760141,
          99.35332157554379,
          99.99999999999999
         ],
         "yaxis": "y"
        },
        {
         "alignmentgroup": "True",
         "hovertemplate": "Type=Mobile<br>late_range_checkout_time=%{x}<br>Proportion=%{y}<extra></extra>",
         "legendgroup": "Mobile",
         "marker": {
          "color": "#4145ab",
          "pattern": {
           "shape": ""
          }
         },
         "name": "Mobile",
         "offsetgroup": "Mobile",
         "orientation": "v",
         "showlegend": true,
         "textposition": "auto",
         "type": "bar",
         "x": [
          "early",
          "on time",
          "15min",
          "30min",
          "1h",
          "2h",
          "4h",
          "more than 4h"
         ],
         "xaxis": "x",
         "y": [
          38.68743220207656,
          51.38695180536185,
          59.956609328994276,
          70.54858205485822,
          82.48876491554317,
          90.58577405857741,
          95.1108011777468,
          100.00000000000001
         ],
         "yaxis": "y"
        }
       ],
       "layout": {
        "barmode": "group",
        "height": 500,
        "legend": {
         "title": {
          "text": "Type"
         },
         "tracegroupgap": 0
        },
        "template": {
         "data": {
          "bar": [
           {
            "error_x": {
             "color": "#2a3f5f"
            },
            "error_y": {
             "color": "#2a3f5f"
            },
            "marker": {
             "line": {
              "color": "#E5ECF6",
              "width": 0.5
             },
             "pattern": {
              "fillmode": "overlay",
              "size": 10,
              "solidity": 0.2
             }
            },
            "type": "bar"
           }
          ],
          "barpolar": [
           {
            "marker": {
             "line": {
              "color": "#E5ECF6",
              "width": 0.5
             },
             "pattern": {
              "fillmode": "overlay",
              "size": 10,
              "solidity": 0.2
             }
            },
            "type": "barpolar"
           }
          ],
          "carpet": [
           {
            "aaxis": {
             "endlinecolor": "#2a3f5f",
             "gridcolor": "white",
             "linecolor": "white",
             "minorgridcolor": "white",
             "startlinecolor": "#2a3f5f"
            },
            "baxis": {
             "endlinecolor": "#2a3f5f",
             "gridcolor": "white",
             "linecolor": "white",
             "minorgridcolor": "white",
             "startlinecolor": "#2a3f5f"
            },
            "type": "carpet"
           }
          ],
          "choropleth": [
           {
            "colorbar": {
             "outlinewidth": 0,
             "ticks": ""
            },
            "type": "choropleth"
           }
          ],
          "contour": [
           {
            "colorbar": {
             "outlinewidth": 0,
             "ticks": ""
            },
            "colorscale": [
             [
              0,
              "#0d0887"
             ],
             [
              0.1111111111111111,
              "#46039f"
             ],
             [
              0.2222222222222222,
              "#7201a8"
             ],
             [
              0.3333333333333333,
              "#9c179e"
             ],
             [
              0.4444444444444444,
              "#bd3786"
             ],
             [
              0.5555555555555556,
              "#d8576b"
             ],
             [
              0.6666666666666666,
              "#ed7953"
             ],
             [
              0.7777777777777778,
              "#fb9f3a"
             ],
             [
              0.8888888888888888,
              "#fdca26"
             ],
             [
              1,
              "#f0f921"
             ]
            ],
            "type": "contour"
           }
          ],
          "contourcarpet": [
           {
            "colorbar": {
             "outlinewidth": 0,
             "ticks": ""
            },
            "type": "contourcarpet"
           }
          ],
          "heatmap": [
           {
            "colorbar": {
             "outlinewidth": 0,
             "ticks": ""
            },
            "colorscale": [
             [
              0,
              "#0d0887"
             ],
             [
              0.1111111111111111,
              "#46039f"
             ],
             [
              0.2222222222222222,
              "#7201a8"
             ],
             [
              0.3333333333333333,
              "#9c179e"
             ],
             [
              0.4444444444444444,
              "#bd3786"
             ],
             [
              0.5555555555555556,
              "#d8576b"
             ],
             [
              0.6666666666666666,
              "#ed7953"
             ],
             [
              0.7777777777777778,
              "#fb9f3a"
             ],
             [
              0.8888888888888888,
              "#fdca26"
             ],
             [
              1,
              "#f0f921"
             ]
            ],
            "type": "heatmap"
           }
          ],
          "heatmapgl": [
           {
            "colorbar": {
             "outlinewidth": 0,
             "ticks": ""
            },
            "colorscale": [
             [
              0,
              "#0d0887"
             ],
             [
              0.1111111111111111,
              "#46039f"
             ],
             [
              0.2222222222222222,
              "#7201a8"
             ],
             [
              0.3333333333333333,
              "#9c179e"
             ],
             [
              0.4444444444444444,
              "#bd3786"
             ],
             [
              0.5555555555555556,
              "#d8576b"
             ],
             [
              0.6666666666666666,
              "#ed7953"
             ],
             [
              0.7777777777777778,
              "#fb9f3a"
             ],
             [
              0.8888888888888888,
              "#fdca26"
             ],
             [
              1,
              "#f0f921"
             ]
            ],
            "type": "heatmapgl"
           }
          ],
          "histogram": [
           {
            "marker": {
             "pattern": {
              "fillmode": "overlay",
              "size": 10,
              "solidity": 0.2
             }
            },
            "type": "histogram"
           }
          ],
          "histogram2d": [
           {
            "colorbar": {
             "outlinewidth": 0,
             "ticks": ""
            },
            "colorscale": [
             [
              0,
              "#0d0887"
             ],
             [
              0.1111111111111111,
              "#46039f"
             ],
             [
              0.2222222222222222,
              "#7201a8"
             ],
             [
              0.3333333333333333,
              "#9c179e"
             ],
             [
              0.4444444444444444,
              "#bd3786"
             ],
             [
              0.5555555555555556,
              "#d8576b"
             ],
             [
              0.6666666666666666,
              "#ed7953"
             ],
             [
              0.7777777777777778,
              "#fb9f3a"
             ],
             [
              0.8888888888888888,
              "#fdca26"
             ],
             [
              1,
              "#f0f921"
             ]
            ],
            "type": "histogram2d"
           }
          ],
          "histogram2dcontour": [
           {
            "colorbar": {
             "outlinewidth": 0,
             "ticks": ""
            },
            "colorscale": [
             [
              0,
              "#0d0887"
             ],
             [
              0.1111111111111111,
              "#46039f"
             ],
             [
              0.2222222222222222,
              "#7201a8"
             ],
             [
              0.3333333333333333,
              "#9c179e"
             ],
             [
              0.4444444444444444,
              "#bd3786"
             ],
             [
              0.5555555555555556,
              "#d8576b"
             ],
             [
              0.6666666666666666,
              "#ed7953"
             ],
             [
              0.7777777777777778,
              "#fb9f3a"
             ],
             [
              0.8888888888888888,
              "#fdca26"
             ],
             [
              1,
              "#f0f921"
             ]
            ],
            "type": "histogram2dcontour"
           }
          ],
          "mesh3d": [
           {
            "colorbar": {
             "outlinewidth": 0,
             "ticks": ""
            },
            "type": "mesh3d"
           }
          ],
          "parcoords": [
           {
            "line": {
             "colorbar": {
              "outlinewidth": 0,
              "ticks": ""
             }
            },
            "type": "parcoords"
           }
          ],
          "pie": [
           {
            "automargin": true,
            "type": "pie"
           }
          ],
          "scatter": [
           {
            "fillpattern": {
             "fillmode": "overlay",
             "size": 10,
             "solidity": 0.2
            },
            "type": "scatter"
           }
          ],
          "scatter3d": [
           {
            "line": {
             "colorbar": {
              "outlinewidth": 0,
              "ticks": ""
             }
            },
            "marker": {
             "colorbar": {
              "outlinewidth": 0,
              "ticks": ""
             }
            },
            "type": "scatter3d"
           }
          ],
          "scattercarpet": [
           {
            "marker": {
             "colorbar": {
              "outlinewidth": 0,
              "ticks": ""
             }
            },
            "type": "scattercarpet"
           }
          ],
          "scattergeo": [
           {
            "marker": {
             "colorbar": {
              "outlinewidth": 0,
              "ticks": ""
             }
            },
            "type": "scattergeo"
           }
          ],
          "scattergl": [
           {
            "marker": {
             "colorbar": {
              "outlinewidth": 0,
              "ticks": ""
             }
            },
            "type": "scattergl"
           }
          ],
          "scattermapbox": [
           {
            "marker": {
             "colorbar": {
              "outlinewidth": 0,
              "ticks": ""
             }
            },
            "type": "scattermapbox"
           }
          ],
          "scatterpolar": [
           {
            "marker": {
             "colorbar": {
              "outlinewidth": 0,
              "ticks": ""
             }
            },
            "type": "scatterpolar"
           }
          ],
          "scatterpolargl": [
           {
            "marker": {
             "colorbar": {
              "outlinewidth": 0,
              "ticks": ""
             }
            },
            "type": "scatterpolargl"
           }
          ],
          "scatterternary": [
           {
            "marker": {
             "colorbar": {
              "outlinewidth": 0,
              "ticks": ""
             }
            },
            "type": "scatterternary"
           }
          ],
          "surface": [
           {
            "colorbar": {
             "outlinewidth": 0,
             "ticks": ""
            },
            "colorscale": [
             [
              0,
              "#0d0887"
             ],
             [
              0.1111111111111111,
              "#46039f"
             ],
             [
              0.2222222222222222,
              "#7201a8"
             ],
             [
              0.3333333333333333,
              "#9c179e"
             ],
             [
              0.4444444444444444,
              "#bd3786"
             ],
             [
              0.5555555555555556,
              "#d8576b"
             ],
             [
              0.6666666666666666,
              "#ed7953"
             ],
             [
              0.7777777777777778,
              "#fb9f3a"
             ],
             [
              0.8888888888888888,
              "#fdca26"
             ],
             [
              1,
              "#f0f921"
             ]
            ],
            "type": "surface"
           }
          ],
          "table": [
           {
            "cells": {
             "fill": {
              "color": "#EBF0F8"
             },
             "line": {
              "color": "white"
             }
            },
            "header": {
             "fill": {
              "color": "#C8D4E3"
             },
             "line": {
              "color": "white"
             }
            },
            "type": "table"
           }
          ]
         },
         "layout": {
          "annotationdefaults": {
           "arrowcolor": "#2a3f5f",
           "arrowhead": 0,
           "arrowwidth": 1
          },
          "autotypenumbers": "strict",
          "coloraxis": {
           "colorbar": {
            "outlinewidth": 0,
            "ticks": ""
           }
          },
          "colorscale": {
           "diverging": [
            [
             0,
             "#8e0152"
            ],
            [
             0.1,
             "#c51b7d"
            ],
            [
             0.2,
             "#de77ae"
            ],
            [
             0.3,
             "#f1b6da"
            ],
            [
             0.4,
             "#fde0ef"
            ],
            [
             0.5,
             "#f7f7f7"
            ],
            [
             0.6,
             "#e6f5d0"
            ],
            [
             0.7,
             "#b8e186"
            ],
            [
             0.8,
             "#7fbc41"
            ],
            [
             0.9,
             "#4d9221"
            ],
            [
             1,
             "#276419"
            ]
           ],
           "sequential": [
            [
             0,
             "#0d0887"
            ],
            [
             0.1111111111111111,
             "#46039f"
            ],
            [
             0.2222222222222222,
             "#7201a8"
            ],
            [
             0.3333333333333333,
             "#9c179e"
            ],
            [
             0.4444444444444444,
             "#bd3786"
            ],
            [
             0.5555555555555556,
             "#d8576b"
            ],
            [
             0.6666666666666666,
             "#ed7953"
            ],
            [
             0.7777777777777778,
             "#fb9f3a"
            ],
            [
             0.8888888888888888,
             "#fdca26"
            ],
            [
             1,
             "#f0f921"
            ]
           ],
           "sequentialminus": [
            [
             0,
             "#0d0887"
            ],
            [
             0.1111111111111111,
             "#46039f"
            ],
            [
             0.2222222222222222,
             "#7201a8"
            ],
            [
             0.3333333333333333,
             "#9c179e"
            ],
            [
             0.4444444444444444,
             "#bd3786"
            ],
            [
             0.5555555555555556,
             "#d8576b"
            ],
            [
             0.6666666666666666,
             "#ed7953"
            ],
            [
             0.7777777777777778,
             "#fb9f3a"
            ],
            [
             0.8888888888888888,
             "#fdca26"
            ],
            [
             1,
             "#f0f921"
            ]
           ]
          },
          "colorway": [
           "#636efa",
           "#EF553B",
           "#00cc96",
           "#ab63fa",
           "#FFA15A",
           "#19d3f3",
           "#FF6692",
           "#B6E880",
           "#FF97FF",
           "#FECB52"
          ],
          "font": {
           "color": "#2a3f5f"
          },
          "geo": {
           "bgcolor": "white",
           "lakecolor": "white",
           "landcolor": "#E5ECF6",
           "showlakes": true,
           "showland": true,
           "subunitcolor": "white"
          },
          "hoverlabel": {
           "align": "left"
          },
          "hovermode": "closest",
          "mapbox": {
           "style": "light"
          },
          "paper_bgcolor": "white",
          "plot_bgcolor": "#E5ECF6",
          "polar": {
           "angularaxis": {
            "gridcolor": "white",
            "linecolor": "white",
            "ticks": ""
           },
           "bgcolor": "#E5ECF6",
           "radialaxis": {
            "gridcolor": "white",
            "linecolor": "white",
            "ticks": ""
           }
          },
          "scene": {
           "xaxis": {
            "backgroundcolor": "#E5ECF6",
            "gridcolor": "white",
            "gridwidth": 2,
            "linecolor": "white",
            "showbackground": true,
            "ticks": "",
            "zerolinecolor": "white"
           },
           "yaxis": {
            "backgroundcolor": "#E5ECF6",
            "gridcolor": "white",
            "gridwidth": 2,
            "linecolor": "white",
            "showbackground": true,
            "ticks": "",
            "zerolinecolor": "white"
           },
           "zaxis": {
            "backgroundcolor": "#E5ECF6",
            "gridcolor": "white",
            "gridwidth": 2,
            "linecolor": "white",
            "showbackground": true,
            "ticks": "",
            "zerolinecolor": "white"
           }
          },
          "shapedefaults": {
           "line": {
            "color": "#2a3f5f"
           }
          },
          "ternary": {
           "aaxis": {
            "gridcolor": "white",
            "linecolor": "white",
            "ticks": ""
           },
           "baxis": {
            "gridcolor": "white",
            "linecolor": "white",
            "ticks": ""
           },
           "bgcolor": "#E5ECF6",
           "caxis": {
            "gridcolor": "white",
            "linecolor": "white",
            "ticks": ""
           }
          },
          "title": {
           "x": 0.05
          },
          "xaxis": {
           "automargin": true,
           "gridcolor": "white",
           "linecolor": "white",
           "ticks": "",
           "title": {
            "standoff": 15
           },
           "zerolinecolor": "white",
           "zerolinewidth": 2
          },
          "yaxis": {
           "automargin": true,
           "gridcolor": "white",
           "linecolor": "white",
           "ticks": "",
           "title": {
            "standoff": 15
           },
           "zerolinecolor": "white",
           "zerolinewidth": 2
          }
         }
        },
        "title": {
         "text": "Cumulative Proportion of Mobile and Connect Check-ins by Late Range of Checkout Time"
        },
        "width": 800,
        "xaxis": {
         "anchor": "y",
         "domain": [
          0,
          1
         ],
         "title": {
          "text": "Late Range of Checkout Time"
         }
        },
        "yaxis": {
         "anchor": "x",
         "domain": [
          0,
          1
         ],
         "dtick": 10,
         "tickmode": "linear",
         "title": {
          "text": "Cumulative Proportion"
         }
        }
       }
      }
     },
     "metadata": {},
     "output_type": "display_data"
    }
   ],
   "source": [
    "# Convertir le DataFrame au format \"long\" pour Plotly Express\n",
    "cumMobCon_long = cumMobCon.melt(\n",
    "    id_vars=[\"late_range_checkout_time\"],\n",
    "    value_vars=[\n",
    "        \"cumulative_proportion_connect\",\n",
    "        \"cumulative_proportion_mobile\",\n",
    "    ],\n",
    "    var_name=\"Type\",\n",
    "    value_name=\"Proportion\")\n",
    "\n",
    "# Remplacer les noms dans la colonne \"Type\" par les labels souhaités\n",
    "cumMobCon_long[\"Type\"] = cumMobCon_long[\"Type\"].replace(\n",
    "    {\n",
    "        \"cumulative_proportion_connect\": \"Connect\",\n",
    "        \"cumulative_proportion_mobile\": \"Mobile\",\n",
    "    }\n",
    ")\n",
    "\n",
    "# Créer le graphique avec les nouvelles données\n",
    "fig = px.bar(\n",
    "    cumMobCon_long,\n",
    "    x=\"late_range_checkout_time\",\n",
    "    y=\"Proportion\",\n",
    "    color=\"Type\", \n",
    "    title=\"Cumulative Proportion of Mobile and Connect Check-ins by Late Range of Checkout Time\",\n",
    "    color_discrete_sequence=px.colors.sequential.Turbo,\n",
    "    height=500, width=800\n",
    ")\n",
    "\n",
    "fig.update_layout(\n",
    "    barmode=\"group\",\n",
    "    xaxis_title=\"Late Range of Checkout Time\",\n",
    "    yaxis_title=\"Cumulative Proportion\",\n",
    "    yaxis=dict(\n",
    "        tickmode=\"linear\",  # Mode pour un espacement constant\n",
    "        dtick=10,  # Espacement des ticks (10 unités)\n",
    "    ),\n",
    ")\n",
    "fig.show()"
   ]
  },
  {
   "cell_type": "code",
   "execution_count": 20,
   "metadata": {},
   "outputs": [],
   "source": [
    "dataset_clean[\"checkin_type\"] = pd.Categorical(\n",
    "    dataset_clean[\"checkin_type\"], categories=[\"mobile\", \"connect\"], ordered=True\n",
    ")"
   ]
  },
  {
   "cell_type": "code",
   "execution_count": 21,
   "metadata": {},
   "outputs": [],
   "source": [
    "def calculate_impact_cases(df, thresholds=range(10, 240, 20)):\n",
    "    # Initialiser les listes pour stocker les résultats\n",
    "    mobile_cases = []\n",
    "    connect_cases = []\n",
    "\n",
    "    # Filtrer pour les retards positifs\n",
    "    delay_df = df[df[\"delay_at_checkout_in_minutes\"] > 0]\n",
    "\n",
    "    # Boucle à travers les seuils de retard pour calculer les impacts\n",
    "    for i in thresholds:\n",
    "        mob_count, conn_count = (\n",
    "            delay_df[delay_df[\"delay_at_checkout_in_minutes\"] <= i][\"checkin_type\"]\n",
    "            .value_counts()\n",
    "            .reindex([\"mobile\", \"connect\"], fill_value=0)\n",
    "        )\n",
    "        mobile_cases.append(mob_count)\n",
    "        connect_cases.append(conn_count)\n",
    "\n",
    "    # Créer le DataFrame des résultats\n",
    "    impact_df = pd.DataFrame(\n",
    "        {\n",
    "            \"threshold\": thresholds,\n",
    "            \"mobile_case\": mobile_cases,\n",
    "            \"connect_case\": connect_cases,\n",
    "        }\n",
    "    )\n",
    "\n",
    "    return impact_df"
   ]
  },
  {
   "cell_type": "code",
   "execution_count": 22,
   "metadata": {},
   "outputs": [],
   "source": [
    "impact_df = calculate_impact_cases(dataset_clean)"
   ]
  },
  {
   "cell_type": "code",
   "execution_count": 23,
   "metadata": {},
   "outputs": [
    {
     "data": {
      "text/plain": [
       "<Axes: xlabel='threshold'>"
      ]
     },
     "execution_count": 23,
     "metadata": {},
     "output_type": "execute_result"
    },
    {
     "data": {
      "image/png": "[encoded data removed]",
      "text/plain": [
       "<Figure size 640x480 with 1 Axes>"
      ]
     },
     "metadata": {},
     "output_type": "display_data"
    }
   ],
   "source": [
    "impact_df.plot(kind=\"line\", x=\"threshold\")"
   ]
  },
  {
   "cell_type": "markdown",
   "metadata": {},
   "source": [
    "How often are drivers late for the next check-in? How does it impact the next driver?"
   ]
  },
  {
   "cell_type": "code",
   "execution_count": 24,
   "metadata": {},
   "outputs": [
    {
     "name": "stdout",
     "output_type": "stream",
     "text": [
      "The drivers are late 57% of the time. This can lead to make the next driver to wait for 156.84 minutes in average\n"
     ]
    }
   ],
   "source": [
    "nextcheckin_late_df = dataset_clean[dataset_clean[\"state\"] == \"ended\"][[\"delay_at_checkout_in_minutes\"]]\n",
    "nextcheckin_late_pro = ((nextcheckin_late_df > 0).sum()).iloc[0] * 100  // len(nextcheckin_late_df)\n",
    "nextcheckin_late_avg = nextcheckin_late_df[nextcheckin_late_df[\"delay_at_checkout_in_minutes\"] > 0].mean().values[0].round(2)\n",
    "print(\n",
    "    f\"The drivers are late {nextcheckin_late_pro}% of the time. This can lead to make the next driver to wait for {nextcheckin_late_avg} minutes in average\"\n",
    ")"
   ]
  },
  {
   "cell_type": "markdown",
   "metadata": {},
   "source": [
    "* How many problematic cases will it solve depending on the chosen threshold and scope?"
   ]
  },
  {
   "cell_type": "code",
   "execution_count": 25,
   "metadata": {},
   "outputs": [],
   "source": [
    "solve_df = calculate_impact_cases(canceled_previous_dt)"
   ]
  },
  {
   "cell_type": "code",
   "execution_count": 26,
   "metadata": {},
   "outputs": [
    {
     "data": {
      "text/plain": [
       "<Axes: xlabel='threshold'>"
      ]
     },
     "execution_count": 26,
     "metadata": {},
     "output_type": "execute_result"
    },
    {
     "data": {
      "image/png": "[encoded data removed]",
      "text/plain": [
       "<Figure size 640x480 with 1 Axes>"
      ]
     },
     "metadata": {},
     "output_type": "display_data"
    }
   ],
   "source": [
    "solve_df.plot(kind=\"line\", x=\"threshold\")"
   ]
  },
  {
   "cell_type": "code",
   "execution_count": 27,
   "metadata": {},
   "outputs": [
    {
     "name": "stdout",
     "output_type": "stream",
     "text": [
      "We have 7485 distinct cars in the dataset\n"
     ]
    }
   ],
   "source": [
    "distinct_car = len(dataset_clean[\"car_id\"].unique())\n",
    "print(f'We have {distinct_car} distinct cars in the dataset')"
   ]
  },
  {
   "cell_type": "code",
   "execution_count": 28,
   "metadata": {},
   "outputs": [],
   "source": [
    "def get_top_cars_with_late_checkouts(dataset_clean, top_n=30):\n",
    "    # Compte le nombre d'occurrences de chaque voiture\n",
    "    car_usage_count = dataset_clean[\"car_id\"].value_counts()\n",
    "\n",
    "    # Filtre pour ne garder que les voitures utilisées plus d'une fois\n",
    "    frequently_used_cars = car_usage_count[car_usage_count > 1]\n",
    "\n",
    "    # Sélectionne les top_n voitures les plus fréquemment utilisées\n",
    "    top_used_cars_df = dataset_clean[\n",
    "        dataset_clean[\"car_id\"].isin(frequently_used_cars.index[:top_n])\n",
    "    ][[\"car_id\", \"checkin_type\", \"delay_at_checkout_in_minutes\"]]\n",
    "\n",
    "    # Marque comme \"is_late\" si le retard est négatif\n",
    "    top_used_cars_df[\"is_late\"] = top_used_cars_df[\n",
    "        \"delay_at_checkout_in_minutes\"\n",
    "    ].apply(lambda x: 1 if x > 0 else 0)\n",
    "\n",
    "    # Ajoute une colonne 'count' pour compter chaque entrée\n",
    "    top_used_cars_df[\"count\"] = 1\n",
    "\n",
    "    # Calcule la moyenne de retard pour chaque voiture\n",
    "    late_mean_per_car = (\n",
    "        top_used_cars_df[top_used_cars_df[\"is_late\"] == 1]\n",
    "        .groupby(\"car_id\")[\"delay_at_checkout_in_minutes\"]\n",
    "        .mean()\n",
    "    ).rename(\"mean_delay\")\n",
    "\n",
    "    # Calcule le nombre de retards et le nombre total d'utilisations pour chaque voiture\n",
    "    late_rate_per_car = top_used_cars_df.groupby(\"car_id\")[[\"is_late\", \"count\"]].sum()\n",
    "\n",
    "    # Calcule le taux de retard pour chaque voiture\n",
    "    late_rate_per_car[\"late_rate\"] = (\n",
    "        late_rate_per_car[\"is_late\"] * 100 / late_rate_per_car[\"count\"]\n",
    "    )\n",
    "\n",
    "    # Combine la moyenne de retard et le taux de retard\n",
    "    result = pd.concat([late_mean_per_car, late_rate_per_car], axis=1)\n",
    "\n",
    "    # Trie les résultats par taux de retard en ordre décroissant\n",
    "    return result.sort_values(by=\"late_rate\", ascending=False)"
   ]
  },
  {
   "cell_type": "code",
   "execution_count": 29,
   "metadata": {},
   "outputs": [
    {
     "data": {
      "text/html": [
       "<div>\n",
       "<style scoped>\n",
       "    .dataframe tbody tr th:only-of-type {\n",
       "        vertical-align: middle;\n",
       "    }\n",
       "\n",
       "    .dataframe tbody tr th {\n",
       "        vertical-align: top;\n",
       "    }\n",
       "\n",
       "    .dataframe thead th {\n",
       "        text-align: right;\n",
       "    }\n",
       "</style>\n",
       "<table border=\"1\" class=\"dataframe\">\n",
       "  <thead>\n",
       "    <tr style=\"text-align: right;\">\n",
       "      <th></th>\n",
       "      <th>mean_delay</th>\n",
       "      <th>is_late</th>\n",
       "      <th>count</th>\n",
       "      <th>late_rate</th>\n",
       "    </tr>\n",
       "    <tr>\n",
       "      <th>car_id</th>\n",
       "      <th></th>\n",
       "      <th></th>\n",
       "      <th></th>\n",
       "      <th></th>\n",
       "    </tr>\n",
       "  </thead>\n",
       "  <tbody>\n",
       "    <tr>\n",
       "      <th>350149</th>\n",
       "      <td>239.200000</td>\n",
       "      <td>15</td>\n",
       "      <td>21</td>\n",
       "      <td>71.428571</td>\n",
       "    </tr>\n",
       "    <tr>\n",
       "      <th>342699</th>\n",
       "      <td>75.166667</td>\n",
       "      <td>12</td>\n",
       "      <td>26</td>\n",
       "      <td>46.153846</td>\n",
       "    </tr>\n",
       "    <tr>\n",
       "      <th>335276</th>\n",
       "      <td>85.333333</td>\n",
       "      <td>9</td>\n",
       "      <td>23</td>\n",
       "      <td>39.130435</td>\n",
       "    </tr>\n",
       "    <tr>\n",
       "      <th>365926</th>\n",
       "      <td>129.375000</td>\n",
       "      <td>8</td>\n",
       "      <td>22</td>\n",
       "      <td>36.363636</td>\n",
       "    </tr>\n",
       "    <tr>\n",
       "      <th>356106</th>\n",
       "      <td>235.142857</td>\n",
       "      <td>7</td>\n",
       "      <td>20</td>\n",
       "      <td>35.000000</td>\n",
       "    </tr>\n",
       "    <tr>\n",
       "      <th>366164</th>\n",
       "      <td>51.714286</td>\n",
       "      <td>7</td>\n",
       "      <td>20</td>\n",
       "      <td>35.000000</td>\n",
       "    </tr>\n",
       "    <tr>\n",
       "      <th>300505</th>\n",
       "      <td>34.500000</td>\n",
       "      <td>8</td>\n",
       "      <td>23</td>\n",
       "      <td>34.782609</td>\n",
       "    </tr>\n",
       "    <tr>\n",
       "      <th>334190</th>\n",
       "      <td>72.181818</td>\n",
       "      <td>11</td>\n",
       "      <td>33</td>\n",
       "      <td>33.333333</td>\n",
       "    </tr>\n",
       "    <tr>\n",
       "      <th>241021</th>\n",
       "      <td>89.222222</td>\n",
       "      <td>9</td>\n",
       "      <td>29</td>\n",
       "      <td>31.034483</td>\n",
       "    </tr>\n",
       "    <tr>\n",
       "      <th>390467</th>\n",
       "      <td>77.333333</td>\n",
       "      <td>6</td>\n",
       "      <td>20</td>\n",
       "      <td>30.000000</td>\n",
       "    </tr>\n",
       "    <tr>\n",
       "      <th>353425</th>\n",
       "      <td>49.833333</td>\n",
       "      <td>6</td>\n",
       "      <td>20</td>\n",
       "      <td>30.000000</td>\n",
       "    </tr>\n",
       "    <tr>\n",
       "      <th>368432</th>\n",
       "      <td>16.333333</td>\n",
       "      <td>6</td>\n",
       "      <td>23</td>\n",
       "      <td>26.086957</td>\n",
       "    </tr>\n",
       "    <tr>\n",
       "      <th>357530</th>\n",
       "      <td>105.000000</td>\n",
       "      <td>6</td>\n",
       "      <td>23</td>\n",
       "      <td>26.086957</td>\n",
       "    </tr>\n",
       "    <tr>\n",
       "      <th>305525</th>\n",
       "      <td>69.400000</td>\n",
       "      <td>5</td>\n",
       "      <td>21</td>\n",
       "      <td>23.809524</td>\n",
       "    </tr>\n",
       "    <tr>\n",
       "      <th>392368</th>\n",
       "      <td>279.250000</td>\n",
       "      <td>4</td>\n",
       "      <td>22</td>\n",
       "      <td>18.181818</td>\n",
       "    </tr>\n",
       "  </tbody>\n",
       "</table>\n",
       "</div>"
      ],
      "text/plain": [
       "        mean_delay  is_late  count  late_rate\n",
       "car_id                                       \n",
       "350149  239.200000       15     21  71.428571\n",
       "342699   75.166667       12     26  46.153846\n",
       "335276   85.333333        9     23  39.130435\n",
       "365926  129.375000        8     22  36.363636\n",
       "356106  235.142857        7     20  35.000000\n",
       "366164   51.714286        7     20  35.000000\n",
       "300505   34.500000        8     23  34.782609\n",
       "334190   72.181818       11     33  33.333333\n",
       "241021   89.222222        9     29  31.034483\n",
       "390467   77.333333        6     20  30.000000\n",
       "353425   49.833333        6     20  30.000000\n",
       "368432   16.333333        6     23  26.086957\n",
       "357530  105.000000        6     23  26.086957\n",
       "305525   69.400000        5     21  23.809524\n",
       "392368  279.250000        4     22  18.181818"
      ]
     },
     "execution_count": 29,
     "metadata": {},
     "output_type": "execute_result"
    }
   ],
   "source": [
    "get_top_cars_with_late_checkouts(dataset_clean, 15)"
   ]
  },
  {
   "cell_type": "markdown",
   "metadata": {},
   "source": [
    "- Is there any relation beetween the car and the late checkouts ?"
   ]
  },
  {
   "cell_type": "markdown",
   "metadata": {},
   "source": [
    "- The car_id 265239 appear twice with different checking type"
   ]
  },
  {
   "cell_type": "code",
   "execution_count": 3,
   "metadata": {},
   "outputs": [],
   "source": [
    "dataset2 = pd.read_csv(\n",
    "    \"https://full-stack-assets.s3.eu-west-3.amazonaws.com/Deployment/get_around_pricing_project.csv\", index_col=[0]\n",
    ")"
   ]
  },
  {
   "cell_type": "code",
   "execution_count": 4,
   "metadata": {},
   "outputs": [
    {
     "data": {
      "text/html": [
       "<div>\n",
       "<style scoped>\n",
       "    .dataframe tbody tr th:only-of-type {\n",
       "        vertical-align: middle;\n",
       "    }\n",
       "\n",
       "    .dataframe tbody tr th {\n",
       "        vertical-align: top;\n",
       "    }\n",
       "\n",
       "    .dataframe thead th {\n",
       "        text-align: right;\n",
       "    }\n",
       "</style>\n",
       "<table border=\"1\" class=\"dataframe\">\n",
       "  <thead>\n",
       "    <tr style=\"text-align: right;\">\n",
       "      <th></th>\n",
       "      <th>model_key</th>\n",
       "      <th>mileage</th>\n",
       "      <th>engine_power</th>\n",
       "      <th>fuel</th>\n",
       "      <th>paint_color</th>\n",
       "      <th>car_type</th>\n",
       "      <th>private_parking_available</th>\n",
       "      <th>has_gps</th>\n",
       "      <th>has_air_conditioning</th>\n",
       "      <th>automatic_car</th>\n",
       "      <th>has_getaround_connect</th>\n",
       "      <th>has_speed_regulator</th>\n",
       "      <th>winter_tires</th>\n",
       "      <th>rental_price_per_day</th>\n",
       "    </tr>\n",
       "  </thead>\n",
       "  <tbody>\n",
       "    <tr>\n",
       "      <th>0</th>\n",
       "      <td>Citroën</td>\n",
       "      <td>140411</td>\n",
       "      <td>100</td>\n",
       "      <td>diesel</td>\n",
       "      <td>black</td>\n",
       "      <td>convertible</td>\n",
       "      <td>True</td>\n",
       "      <td>True</td>\n",
       "      <td>False</td>\n",
       "      <td>False</td>\n",
       "      <td>True</td>\n",
       "      <td>True</td>\n",
       "      <td>True</td>\n",
       "      <td>106</td>\n",
       "    </tr>\n",
       "    <tr>\n",
       "      <th>1</th>\n",
       "      <td>Citroën</td>\n",
       "      <td>13929</td>\n",
       "      <td>317</td>\n",
       "      <td>petrol</td>\n",
       "      <td>grey</td>\n",
       "      <td>convertible</td>\n",
       "      <td>True</td>\n",
       "      <td>True</td>\n",
       "      <td>False</td>\n",
       "      <td>False</td>\n",
       "      <td>False</td>\n",
       "      <td>True</td>\n",
       "      <td>True</td>\n",
       "      <td>264</td>\n",
       "    </tr>\n",
       "    <tr>\n",
       "      <th>2</th>\n",
       "      <td>Citroën</td>\n",
       "      <td>183297</td>\n",
       "      <td>120</td>\n",
       "      <td>diesel</td>\n",
       "      <td>white</td>\n",
       "      <td>convertible</td>\n",
       "      <td>False</td>\n",
       "      <td>False</td>\n",
       "      <td>False</td>\n",
       "      <td>False</td>\n",
       "      <td>True</td>\n",
       "      <td>False</td>\n",
       "      <td>True</td>\n",
       "      <td>101</td>\n",
       "    </tr>\n",
       "    <tr>\n",
       "      <th>3</th>\n",
       "      <td>Citroën</td>\n",
       "      <td>128035</td>\n",
       "      <td>135</td>\n",
       "      <td>diesel</td>\n",
       "      <td>red</td>\n",
       "      <td>convertible</td>\n",
       "      <td>True</td>\n",
       "      <td>True</td>\n",
       "      <td>False</td>\n",
       "      <td>False</td>\n",
       "      <td>True</td>\n",
       "      <td>True</td>\n",
       "      <td>True</td>\n",
       "      <td>158</td>\n",
       "    </tr>\n",
       "    <tr>\n",
       "      <th>4</th>\n",
       "      <td>Citroën</td>\n",
       "      <td>97097</td>\n",
       "      <td>160</td>\n",
       "      <td>diesel</td>\n",
       "      <td>silver</td>\n",
       "      <td>convertible</td>\n",
       "      <td>True</td>\n",
       "      <td>True</td>\n",
       "      <td>False</td>\n",
       "      <td>False</td>\n",
       "      <td>False</td>\n",
       "      <td>True</td>\n",
       "      <td>True</td>\n",
       "      <td>183</td>\n",
       "    </tr>\n",
       "  </tbody>\n",
       "</table>\n",
       "</div>"
      ],
      "text/plain": [
       "  model_key  mileage  engine_power    fuel paint_color     car_type  \\\n",
       "0   Citroën   140411           100  diesel       black  convertible   \n",
       "1   Citroën    13929           317  petrol        grey  convertible   \n",
       "2   Citroën   183297           120  diesel       white  convertible   \n",
       "3   Citroën   128035           135  diesel         red  convertible   \n",
       "4   Citroën    97097           160  diesel      silver  convertible   \n",
       "\n",
       "   private_parking_available  has_gps  has_air_conditioning  automatic_car  \\\n",
       "0                       True     True                 False          False   \n",
       "1                       True     True                 False          False   \n",
       "2                      False    False                 False          False   \n",
       "3                       True     True                 False          False   \n",
       "4                       True     True                 False          False   \n",
       "\n",
       "   has_getaround_connect  has_speed_regulator  winter_tires  \\\n",
       "0                   True                 True          True   \n",
       "1                  False                 True          True   \n",
       "2                   True                False          True   \n",
       "3                   True                 True          True   \n",
       "4                  False                 True          True   \n",
       "\n",
       "   rental_price_per_day  \n",
       "0                   106  \n",
       "1                   264  \n",
       "2                   101  \n",
       "3                   158  \n",
       "4                   183  "
      ]
     },
     "execution_count": 4,
     "metadata": {},
     "output_type": "execute_result"
    }
   ],
   "source": [
    "dataset2.head()"
   ]
  },
  {
   "cell_type": "code",
   "execution_count": 36,
   "metadata": {},
   "outputs": [],
   "source": [
    "avg_rental_price = dataset2[\"rental_price_per_day\"].mean()"
   ]
  },
  {
   "cell_type": "code",
   "execution_count": 37,
   "metadata": {},
   "outputs": [],
   "source": [
    "cancel_len = len(dataset_clean[dataset_clean['state'] == \"canceled\"])"
   ]
  },
  {
   "cell_type": "code",
   "execution_count": 40,
   "metadata": {},
   "outputs": [
    {
     "name": "stdout",
     "output_type": "stream",
     "text": [
      "From the previous analysis we know that 60% of the cancellations are due to late. Then fixing the late problem can increase the profit for more than 237386.55\n"
     ]
    }
   ],
   "source": [
    "print(\n",
    "    f\"From the previous analysis we know that 60% of the cancellations are due to late. Then fixing the late problem can increase the profit for more than {(cancelation_late/100 * cancel_len * avg_rental_price).round(2)} and increase the they reliability\"\n",
    ")"
   ]
  }
 ],
 "metadata": {
  "kernelspec": {
   "display_name": "base",
   "language": "python",
   "name": "python3"
  },
  "language_info": {
   "codemirror_mode": {
    "name": "ipython",
    "version": 3
   },
   "file_extension": ".py",
   "mimetype": "text/x-python",
   "name": "python",
   "nbconvert_exporter": "python",
   "pygments_lexer": "ipython3",
   "version": "3.12.3"
  }
 },
 "nbformat": 4,
 "nbformat_minor": 2
}
